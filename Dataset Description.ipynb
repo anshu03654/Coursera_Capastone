{
    "cells": [
        {
            "metadata": {
                "collapsed": true
            },
            "cell_type": "markdown",
            "source": "# The Battle of Neighborhoods | Data Description"
        },
        {
            "metadata": {},
            "cell_type": "markdown",
            "source": "The data has been collected from various sources."
        },
        {
            "metadata": {},
            "cell_type": "markdown",
            "source": "## Neighborhood Data:"
        },
        {
            "metadata": {},
            "cell_type": "markdown",
            "source": "The data of the neighborhoods in Mumbai was scraped from Wikipedia. The data is read into a pandas data frame using the read_html() method. The main reason for doing so is that the Wikipedia page provides a comprehensive and detailed table of the data which can easily be scraped using the read_html() method of pandas.\n\nData Link:  https://en.wikipedia.org/wiki/List_of_neighbourhoods_in_Mumbai"
        },
        {
            "metadata": {},
            "cell_type": "markdown",
            "source": "## Geographical Coordinates:"
        },
        {
            "metadata": {},
            "cell_type": "markdown",
            "source": "The geographical coordinates for Mumbai data has been obtained from the GeoPy library in python. This data is relevant for plotting the map of Mumbai using the Folium library in python. The geocoder library in python has been used to obtain latitude and longitude data for various neighborhoods in Mumbai. The coordinates of all neighborhoods in Mumbai are used to check the accuracy of coordinates given on Wikipedia and replace them in our data frame if the absolute difference is more than 0.001. These coordinates are then further used for plotting using the Folium library in python."
        },
        {
            "metadata": {},
            "cell_type": "markdown",
            "source": "## Venues Data:"
        },
        {
            "metadata": {},
            "cell_type": "markdown",
            "source": "The venue data has been extracted using the Foursquare API. This data contains venue recommendations for all neighborhoods in Mumbai and is used to study the popular venues of different neighborhoods.\n\nAfter finding the list of neighborhoods, we then connect to the Foursquare API to gather information about venues inside each and every neighborhood. For each neighborhood, we have chosen the radius to be 100 meter.\n\nThe data retrieved from Foursquare contained information of venues within a specified distance of the longitude and latitude of the postcodes. The information obtained per venue as follows:\n\n1. Neighborhood\n2. Neighborhood Latitude\n3. Neighborhood Longitude\n4. Venue\n5. Name of the venue e.g. the name of a store or restaurant\n6. Venue Latitude\n7. Venue Longitude\n8. Venue Category"
        }
    ],
    "metadata": {
        "kernelspec": {
            "name": "python3",
            "display_name": "Python 3.7",
            "language": "python"
        },
        "language_info": {
            "name": "python",
            "version": "3.7.10",
            "mimetype": "text/x-python",
            "codemirror_mode": {
                "name": "ipython",
                "version": 3
            },
            "pygments_lexer": "ipython3",
            "nbconvert_exporter": "python",
            "file_extension": ".py"
        }
    },
    "nbformat": 4,
    "nbformat_minor": 1
}