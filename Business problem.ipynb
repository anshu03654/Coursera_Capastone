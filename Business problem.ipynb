{
    "cells": [
        {
            "metadata": {
                "collapsed": true
            },
            "cell_type": "markdown",
            "source": "# Battle of Neighborhoods | Introduction | Business Problem"
        },
        {
            "metadata": {},
            "cell_type": "markdown",
            "source": "## Introduction:"
        },
        {
            "metadata": {},
            "cell_type": "markdown",
            "source": "The purpose of this project is to study the neighborhoods in Mumbai to determine possible locations for opening a restaurant. This project can be useful for business owners and entrepreneurs who are looking to invest in a restaurant in Mumbai. The main objective of this project is to carefully analyze appropriate data and find recommendations for the stakeholders.\n\nThe multi-cultural nature of the city of Mumbai has brought along with it numerous cuisines from all over the world. The people of India generally love food and try different cuisines and experience different flavors.\n\nThis Project aim to create an analysis of features for business owners and entrepreneurs who are looking to invest in a restaurant in Mumbai to search a best neighborhood as a comparative analysis between neighborhoods."
        },
        {
            "metadata": {},
            "cell_type": "markdown",
            "source": "## Problem which tried to solve:"
        },
        {
            "metadata": {},
            "cell_type": "markdown",
            "source": "The major purpose of this project, is to suggest a better neighborhood in Mumbai for entrepreneurs who are looking forward to open a restaurant.This project will help to determine the best neighborhood for a particular type of cusine."
        },
        {
            "metadata": {},
            "cell_type": "markdown",
            "source": "## The Location:"
        },
        {
            "metadata": {},
            "cell_type": "markdown",
            "source": "Mumbai is the financial capital of India and is one of the most densely populated cities in the world. It lies on the west coast of India and attracts heavy tourism from all over the globe every year.It is one of the major hubs of the world and is extremely diverse with people from various ethnicities residing here."
        },
        {
            "metadata": {},
            "cell_type": "markdown",
            "source": "## Foursquare API:"
        },
        {
            "metadata": {},
            "cell_type": "markdown",
            "source": "This project would use Four-square API as its prime data gathering source as it has a database of millions of places, especially their places API which provides the ability to perform location search, location sharing and details about a business."
        },
        {
            "metadata": {},
            "cell_type": "markdown",
            "source": "## Clustering Approach:"
        },
        {
            "metadata": {},
            "cell_type": "markdown",
            "source": "We will be using K-Means Clustering Algorithms for clustering the neighborhood data. K-Means is an unsupervised form of Machine Learning."
        },
        {
            "metadata": {},
            "cell_type": "markdown",
            "source": "## Libraries Used:"
        },
        {
            "metadata": {},
            "cell_type": "markdown",
            "source": "1. Pandas\n2. Numpy\n3. Matplotlib\n4. Seaborn\n5. Scikit Learn\n6. Geopy\n7. Geocoder\n8. Folium\n9. Json\n10. Requests"
        }
    ],
    "metadata": {
        "kernelspec": {
            "name": "python3",
            "display_name": "Python 3.7",
            "language": "python"
        },
        "language_info": {
            "name": "python",
            "version": "3.7.10",
            "mimetype": "text/x-python",
            "codemirror_mode": {
                "name": "ipython",
                "version": 3
            },
            "pygments_lexer": "ipython3",
            "nbconvert_exporter": "python",
            "file_extension": ".py"
        }
    },
    "nbformat": 4,
    "nbformat_minor": 1
}